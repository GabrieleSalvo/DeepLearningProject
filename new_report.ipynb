{
 "cells": [
  {
   "cell_type": "markdown",
   "metadata": {},
   "source": [
    "## <center> CS-E4890 - Deep Learning, Project Work</center>\n",
    "## <center> Jointed Convolutional and Recurrent Neural Network for Sentiment Analysis </center>\n",
    "## <center> Teamname: SY</center>\n",
    "## <center> date: May 18th, 2019</center>"
   ]
  },
  {
   "cell_type": "markdown",
   "metadata": {
    "ipub": {
     "slide": true
    }
   },
   "source": [
    "# Introduction"
   ]
  },
  {
   "cell_type": "markdown",
   "metadata": {},
   "source": [
    "Sentiment analysis is a hot application of text mining that identifies and extracts contextual information in raw text and helps companies to understand the users' opinion of their product or service. It often integrates with recommender system in business. In recent years, deep learning models show its impressive performance on natural language processing and in this project, we would cover the topic of sentiment analysis and implement deep learning model on two different review dataset to recognize and classify user's social sentiment on products."
   ]
  },
  {
   "cell_type": "markdown",
   "metadata": {},
   "source": [
    "## Problem"
   ]
  },
  {
   "cell_type": "markdown",
   "metadata": {},
   "source": [
    "The challenge we are aiming to solve is to predict the overall score/sentiment of the review, given by the user, based on the review itself. We choose to extrapolate the word embeddings from the raw text using different methods and treat these with a jointed convolutional and recurrent neural network to examine the performance of our model and evaluate our prediction."
   ]
  },
  {
   "cell_type": "markdown",
   "metadata": {
    "ipub": {
     "slide": true
    }
   },
   "source": [
    "## Dataset"
   ]
  },
  {
   "cell_type": "markdown",
   "metadata": {},
   "source": [
    "We would carry out the experiment on two dataset, one is multiclass and the other is binary and compare the performance of model between these two. The datasets have several fields, and each sample corresponds to one label. Only review text and corresponding label are needed in our experiment. "
   ]
  },
  {
   "cell_type": "markdown",
   "metadata": {},
   "source": [
    "### Multiclass dataset\n",
    "Taken from the Amazon Product data$^{1}$ that collects opinions of users shared on the Amazon Prime platform, the dataset we are working on is concerned with instant video contents. The original data has been reduced in order to extract and each observation has a label of rating, which ranges from 1 to 5 and can be regarded as very negative, negative, neutral, postive, very postive for opinion. The dataset uses .json.gz format and we use specific functions to load it.  \n",
    "\n",
    "The dense dataset made so far has 9 fields: "
   ]
  },
  {
   "cell_type": "code",
   "execution_count": 1,
   "metadata": {},
   "outputs": [],
   "source": [
    "%reload_ext autoreload\n",
    "%autoreload 2\n",
    "\n",
    "from ReviewModel import ReviewModel\n",
    "from dataLoader import *\n",
    "import numpy as np\n",
    "import torch"
   ]
  },
  {
   "cell_type": "code",
   "execution_count": 2,
   "metadata": {},
   "outputs": [
    {
     "data": {
      "text/html": [
       "<div>\n",
       "<style scoped>\n",
       "    .dataframe tbody tr th:only-of-type {\n",
       "        vertical-align: middle;\n",
       "    }\n",
       "\n",
       "    .dataframe tbody tr th {\n",
       "        vertical-align: top;\n",
       "    }\n",
       "\n",
       "    .dataframe thead th {\n",
       "        text-align: right;\n",
       "    }\n",
       "</style>\n",
       "<table border=\"1\" class=\"dataframe\">\n",
       "  <thead>\n",
       "    <tr style=\"text-align: right;\">\n",
       "      <th></th>\n",
       "      <th>reviewerID</th>\n",
       "      <th>asin</th>\n",
       "      <th>reviewerName</th>\n",
       "      <th>helpful</th>\n",
       "      <th>reviewText</th>\n",
       "      <th>overall</th>\n",
       "      <th>summary</th>\n",
       "      <th>unixReviewTime</th>\n",
       "      <th>reviewTime</th>\n",
       "    </tr>\n",
       "  </thead>\n",
       "  <tbody>\n",
       "    <tr>\n",
       "      <th>0</th>\n",
       "      <td>A11N155CW1UV02</td>\n",
       "      <td>B000H00VBQ</td>\n",
       "      <td>AdrianaM</td>\n",
       "      <td>[0, 0]</td>\n",
       "      <td>I had big expectations because I love English ...</td>\n",
       "      <td>2.0</td>\n",
       "      <td>A little bit boring for me</td>\n",
       "      <td>1399075200</td>\n",
       "      <td>05 3, 2014</td>\n",
       "    </tr>\n",
       "    <tr>\n",
       "      <th>1</th>\n",
       "      <td>A3BC8O2KCL29V2</td>\n",
       "      <td>B000H00VBQ</td>\n",
       "      <td>Carol T</td>\n",
       "      <td>[0, 0]</td>\n",
       "      <td>I highly recommend this series. It is a must f...</td>\n",
       "      <td>5.0</td>\n",
       "      <td>Excellent Grown Up TV</td>\n",
       "      <td>1346630400</td>\n",
       "      <td>09 3, 2012</td>\n",
       "    </tr>\n",
       "    <tr>\n",
       "      <th>2</th>\n",
       "      <td>A60D5HQFOTSOM</td>\n",
       "      <td>B000H00VBQ</td>\n",
       "      <td>Daniel Cooper \"dancoopermedia\"</td>\n",
       "      <td>[0, 1]</td>\n",
       "      <td>This one is a real snoozer. Don't believe anyt...</td>\n",
       "      <td>1.0</td>\n",
       "      <td>Way too boring for me</td>\n",
       "      <td>1381881600</td>\n",
       "      <td>10 16, 2013</td>\n",
       "    </tr>\n",
       "    <tr>\n",
       "      <th>3</th>\n",
       "      <td>A1RJPIGRSNX4PW</td>\n",
       "      <td>B000H00VBQ</td>\n",
       "      <td>J. Kaplan \"JJ\"</td>\n",
       "      <td>[0, 0]</td>\n",
       "      <td>Mysteries are interesting.  The tension betwee...</td>\n",
       "      <td>4.0</td>\n",
       "      <td>Robson Green is mesmerizing</td>\n",
       "      <td>1383091200</td>\n",
       "      <td>10 30, 2013</td>\n",
       "    </tr>\n",
       "    <tr>\n",
       "      <th>4</th>\n",
       "      <td>A16XRPF40679KG</td>\n",
       "      <td>B000H00VBQ</td>\n",
       "      <td>Michael Dobey</td>\n",
       "      <td>[1, 1]</td>\n",
       "      <td>This show always is excellent, as far as briti...</td>\n",
       "      <td>5.0</td>\n",
       "      <td>Robson green and great writing</td>\n",
       "      <td>1234310400</td>\n",
       "      <td>02 11, 2009</td>\n",
       "    </tr>\n",
       "  </tbody>\n",
       "</table>\n",
       "</div>"
      ],
      "text/plain": [
       "       reviewerID        asin                    reviewerName helpful  \\\n",
       "0  A11N155CW1UV02  B000H00VBQ                        AdrianaM  [0, 0]   \n",
       "1  A3BC8O2KCL29V2  B000H00VBQ                         Carol T  [0, 0]   \n",
       "2   A60D5HQFOTSOM  B000H00VBQ  Daniel Cooper \"dancoopermedia\"  [0, 1]   \n",
       "3  A1RJPIGRSNX4PW  B000H00VBQ                  J. Kaplan \"JJ\"  [0, 0]   \n",
       "4  A16XRPF40679KG  B000H00VBQ                   Michael Dobey  [1, 1]   \n",
       "\n",
       "                                          reviewText  overall  \\\n",
       "0  I had big expectations because I love English ...      2.0   \n",
       "1  I highly recommend this series. It is a must f...      5.0   \n",
       "2  This one is a real snoozer. Don't believe anyt...      1.0   \n",
       "3  Mysteries are interesting.  The tension betwee...      4.0   \n",
       "4  This show always is excellent, as far as briti...      5.0   \n",
       "\n",
       "                          summary  unixReviewTime   reviewTime  \n",
       "0      A little bit boring for me      1399075200   05 3, 2014  \n",
       "1           Excellent Grown Up TV      1346630400   09 3, 2012  \n",
       "2           Way too boring for me      1381881600  10 16, 2013  \n",
       "3     Robson Green is mesmerizing      1383091200  10 30, 2013  \n",
       "4  Robson green and great writing      1234310400  02 11, 2009  "
      ]
     },
     "execution_count": 2,
     "metadata": {},
     "output_type": "execute_result"
    }
   ],
   "source": [
    "data_loader = AmznDataLoader(path ='./data/reviews_Amazon_Instant_Video_5.json.gz', maxSeqLength = 80)\n",
    "data_loader.info"
   ]
  },
  {
   "cell_type": "markdown",
   "metadata": {},
   "source": [
    "More in detail:\n",
    "- reviewerID - ID of the reviewer\n",
    "- asin - ID of the product\n",
    "- reviewerName - name of the reviewer\n",
    "- helpful - helpfulness rating of the review\n",
    "- reviewText - text of the review\n",
    "- overall - rating of the product\n",
    "- summary - summary of the review\n",
    "- unixReviewTime - time of the review (unix time)\n",
    "- reviewTime - time of the review (raw)"
   ]
  },
  {
   "cell_type": "markdown",
   "metadata": {},
   "source": [
    "### Twoclass dataset\n",
    "\n",
    "The other dataset we use is SST2 with binary labels, which is taken from Stanford Sentiment Treebank$^2$ SST1 after removing neutral review. The data is saved as .txt files and only contains label and reviewtext. We would treat label \"0 \" as negative and  \"1 \" as postive."
   ]
  },
  {
   "cell_type": "markdown",
   "metadata": {},
   "source": [
    "Here is the summary for two dataset. "
   ]
  },
  {
   "cell_type": "markdown",
   "metadata": {},
   "source": [
    "| Data      | Class | MaxSeqLength | #Observations | #Corpus |# Words cannot found| #Train |#Test| TrainValSplit |\n",
    "|--------------|-------|--------------|---------------|---------|------|-------|-------|------------|\n",
    "| AmazonReview | 5     | 60           | 37,126        | 52,656  |376   |29,700 |  7,426|      4:1      |\n",
    "| SST2         | 2     | 20           |    8,741      | 15,017  |9,776 |6,992  |  1,749|    4:1  |"
   ]
  },
  {
   "cell_type": "markdown",
   "metadata": {},
   "source": [
    "# Method"
   ]
  },
  {
   "cell_type": "markdown",
   "metadata": {},
   "source": [
    "## Method Description"
   ]
  },
  {
   "cell_type": "markdown",
   "metadata": {},
   "source": [
    "In this section we would present the details of model architecture and used techniques. The model utilizes layers including\n",
    "- CNN(Convolutional Neural Network) and GRU(Gated Recurrent Unit)\n",
    "- Maxpooling, Dropout and Linear Layers\n",
    "- activation Relu, logsoftmax.\n",
    "\n",
    "All layers are 1-d. \n",
    "\n",
    "The model is reproduced according to Jiang$^{4}$et al.,(2016), which combines the advantages of CNN and RNN for sentiment analysis for short text with the advantages of CNN's characteristic of preserving local features with order and RNN's long term dependencies of features. The model shows remarkable classification accuracy, and we would develop it in pytorch for our amazon dataset and compare the result of SST2 dataset with that of the paper. "
   ]
  },
  {
   "cell_type": "markdown",
   "metadata": {},
   "source": [
    "### Word Embedding"
   ]
  },
  {
   "cell_type": "markdown",
   "metadata": {},
   "source": [
    "Word embedding is one of popular vocabulary representations and efficient way of proprecessing raw text, which aims to capturing words in a text while keeping their semantic and syntactic similarity and represented words by high-dimensional vectors, so each word in the corpus is assigned as a unique vector. Commonly it is generated by random initialization or pretrained by unsupervised learning algorithm. Here we used glove$^3$ released by Stanford and random embedding and compare their effects on results. The pretrained models should contain most common words, and we initialize random embedding for those words cannot found.\n",
    "\n",
    "The powerful function of word embedding is that the distance of two vectors in vector space\n",
    "is the sign of the similarity of meaning/context of words. An example of words vector that projected on 2D space after dimensionality reduction is given below to help understanding. We used word embedding to convert text to vector for further feature extraction by Convolution."
   ]
  },
  {
   "cell_type": "markdown",
   "metadata": {},
   "source": [
    "<img src=\"man_woman.jpg\" style=\"width:400px;\" alt=\"Drawing\" align=\"center\"/>"
   ]
  },
  {
   "cell_type": "markdown",
   "metadata": {},
   "source": [
    "In our project, the text is transformed to 50-dim word embedding to prevent simplicity of meaning and represents as matrix, where each word/vector is regarded as one feature. Let l and d be the maximum length of sentence and word vector, the matrix can be written as $C \\in \\mathbb{R}^{d*l}$, and each column $C_i \\in \\mathbb{R}^{d}$ represents word embedding for i$^{th}$ word in the sentence text, **Note that in the model $C \\in \\mathbb{R}^{l*d}$ swaps for valid input of embedding layer, so is the following dimensionality**."
   ]
  },
  {
   "cell_type": "markdown",
   "metadata": {},
   "source": [
    "### Convolution and MaxPooling"
   ]
  },
  {
   "cell_type": "markdown",
   "metadata": {},
   "source": [
    "CNN has advantage to maintain information of local features and their order and maxpooling is able to select the important features. We would apply this combination to word embedding. Two convolutions with kernel size $H \\in \\mathbb{R}^{d*w}$ of one difference is applied to the sentence matrix obtained above with zero padding on both sides to produce feature map $c = [c_1, c_2, ..., c_{l-w+2*p+1}]$, for each feature "
   ]
  },
  {
   "cell_type": "markdown",
   "metadata": {},
   "source": [
    "\\begin{equation*}\n",
    "c_i = \\sigma (\\sum (C[-1, i:i+w])\\circ H)+b)\n",
    "\\end{equation*}"
   ]
  },
  {
   "cell_type": "markdown",
   "metadata": {},
   "source": [
    "$b\\in \\mathbb{R}, \\sigma$ represents bias and non-linear activation function respectively, and we use Relu as activation. $\\circ$ represent element-wise multiplication or Hadamard product between two matrices. $p$ corresponds to the number of zero padding on both sides, p = 2. $C[-1,i:i+w]$ correponds to $i^{th}$ to $i+w^{th}$ words/vectors in the sentence.\n",
    "\n",
    "The windows with different length moves from left to right of the sentence to keep its sequential context in feature map and sebsequent maxpooling layer capture important features. The additional zero padding helps retain information on the edge as much as poosible. The outputs of convolutional layer should have one difference in one dimension for one kernel size = 4 and the other kernel size = 5 while stride = 1 and padding = 2 are retained same, and a pair of the maxpooling layers with kernel_size = 2 enables the feature map downscaled by 2, that is, to get rid of difference and make it consistent, hence $\\text{maxpooling} (c) \\in \\mathbb{R}^{\\lfloor \\frac{l-w+2p+1}{2} \\rfloor}$."
   ]
  },
  {
   "cell_type": "markdown",
   "metadata": {},
   "source": [
    "Assuming we would use m weight matrices to get feature maps, hence after maxpooling layer it would produce feature maps $P\\in \\mathbb{R}^{\\lfloor \\frac{l-w+2p+1}{2} \\rfloor*m}$. Here m is the outchannels for convolution, i.e., m = 200."
   ]
  },
  {
   "cell_type": "markdown",
   "metadata": {},
   "source": [
    "### GRU"
   ]
  },
  {
   "cell_type": "markdown",
   "metadata": {},
   "source": [
    "GRU was introduced by Cho et al.(2014) firstly and we use it to handle with long-term dependencies of features of inputs. The key equations for updating GRU is displayed below."
   ]
  },
  {
   "cell_type": "markdown",
   "metadata": {},
   "source": [
    "<center>$ h_t = (1-z_t)\\circ h_{t-1} + z\\circ \\hat{h_t}\\\\\n",
    "r_t = \\sigma(U_r h_{t-1} + W_r x_t)\\\\\n",
    "u_t = \\sigma(U_z h_{t-1} + W_z x_t )\\\\\n",
    "\\hat{h_t} = \\phi(W x_t + U(r_t \\circ h_{t-1}))\n",
    "$<center>."
   ]
  },
  {
   "cell_type": "markdown",
   "metadata": {},
   "source": [
    "$\\sigma$ denotes log_sigmoid functcion, and $r_t$, $z_t$ and $\\hat{h_t}$ denotes reset gate, update gate and new hidden layer. "
   ]
  },
  {
   "cell_type": "markdown",
   "metadata": {},
   "source": [
    "We would concatenate adjacent feature maps $P_1$ and $P_2$ before feeding it to GRU layer. The output should be $Z = (P_1,P_2) \\in \\mathbb{R}^{\\lfloor \\frac{l-w+2p+1}{2} \\rfloor*2m} $, the convolutional output of one sentence.The GRU is one layer and one direction, and we set the features h in the initial hidden state for each element, and we only retain the output features from the last layer, therefore the output of one sentence $h_t\\in \\mathbb{R}^{\\lfloor \\frac{l-w+2p+1}{2} \\rfloor*h}$.Here we set hidden size h = 100. "
   ]
  },
  {
   "cell_type": "markdown",
   "metadata": {},
   "source": [
    "### Classifier "
   ]
  },
  {
   "cell_type": "markdown",
   "metadata": {},
   "source": [
    "Finally we pass the output $h_t$ of final layer from GRU to a classifier that consists of two fully connected linear layers, and the output is the probability distribution over all classes. We would use CrossEntropyLoss function to measure the inconsistency between predicted and actual output. \n",
    "\n",
    "Note that in pytorch CrossEntropyLoss integrates logsoftmax with NLLLoss function already so we don't have to add softmax activation for final layer. Here is the loss for one input."
   ]
  },
  {
   "cell_type": "markdown",
   "metadata": {},
   "source": [
    "<center>loss(x,class) = $-\\log(\\frac{\\exp(x[class])}{\\sum_j \\exp(x[j])}) = -x[class] + \\log (\\sum_j exp(x[j])) $<center>"
   ]
  },
  {
   "cell_type": "markdown",
   "metadata": {},
   "source": [
    "The model is trained by different learning rate and optimizer to prevent stop at local minimum and achieve higher accuracy. The details can be found in the latter section. We use skorch package that wraps pytorch with sklearn interface. The dropout layers are used in our model to prohibit overfitting as well.  "
   ]
  },
  {
   "cell_type": "markdown",
   "metadata": {},
   "source": [
    "# Experiments and Results"
   ]
  },
  {
   "cell_type": "markdown",
   "metadata": {},
   "source": [
    "## Experiments"
   ]
  },
  {
   "cell_type": "markdown",
   "metadata": {},
   "source": [
    "Next we would train our model using two dataset with two different word embedding method. To train our model, we have to change certain paramaters to fit model: For changing dataset,you have to modify output_dim and max_length; For changing embedding mode, you have to modify random. "
   ]
  },
  {
   "cell_type": "code",
   "execution_count": 3,
   "metadata": {},
   "outputs": [],
   "source": [
    "ReviewModelParam = {\n",
    "    \"max_length\": 80,\n",
    "    \"embedding_dim\": 50,\n",
    "    \"vocab_length\" : data_loader.weight_matrix.shape[0],\n",
    "    \"output_dim\" : 5,\n",
    "    \"batch_size\" : 128,\n",
    "    \"random\":False,\n",
    "    \"first_dropout\" : 0.5,\n",
    "    \"conv_input_channel\": None,\n",
    "    \"conv_output_channel\" : 200,\n",
    "    \"conv_padding\" : 2,\n",
    "    \"conv1_kernel_size\" : 4,\n",
    "    \"conv2_kernel_size\" : 5,\n",
    "    \"maxpool_kernel_size\" : 2,\n",
    "    \"second_dropout\" : 0.3,\n",
    "    \"rnn_input_size\": None,\n",
    "    \"rnn_hidden_size\" : 100,\n",
    "    \"rnn_num_layers\" : 1,\n",
    "    \"first_dense_in\":None,\n",
    "    \"first_dense_out\" : 400,\n",
    "    \"third_dropout\" : 0.15,\n",
    "    \"second_dense_in\" : None,\n",
    "    \"second_dense_out\" : None\n",
    "    }\n",
    "\n",
    "ReviewModelParam[\"conv_input_channel\"] = ReviewModelParam[\"embedding_dim\"]\n",
    "ReviewModelParam[\"rnn_input_size\"] = ReviewModelParam[\"conv_output_channel\"]*2\n",
    "ReviewModelParam[\"first_dense_in\"] = ReviewModelParam[\"max_length\"]//2 * ReviewModelParam[\"rnn_hidden_size\"]\n",
    "ReviewModelParam[\"second_dense_in\"] = ReviewModelParam[\"first_dense_out\"]\n",
    "ReviewModelParam[\"second_dense_out\"] = ReviewModelParam[\"output_dim\"] "
   ]
  },
  {
   "cell_type": "code",
   "execution_count": 4,
   "metadata": {},
   "outputs": [],
   "source": [
    "from skorch import NeuralNetClassifier\n",
    "import torch.optim as optim\n",
    "from skorch.callbacks import EpochScoring,LRScheduler, EarlyStopping\n",
    "from torch import nn"
   ]
  },
  {
   "cell_type": "markdown",
   "metadata": {},
   "source": [
    "### Multiclass dataset with glove embedding"
   ]
  },
  {
   "cell_type": "code",
   "execution_count": 6,
   "metadata": {},
   "outputs": [],
   "source": [
    "callbacks = [\n",
    "    ('es1',EpochScoring('accuracy')),\n",
    "    ('lrs',LRScheduler()),\n",
    "    ('est',EarlyStopping())    \n",
    "]\n",
    "batch_size = 128\n",
    "device = torch.device(\"cuda\")\n",
    "model = ReviewModel(ReviewModelParam).to(device)\n",
    "net = NeuralNetClassifier(model,\n",
    "                          iterator_train__drop_last = True,\n",
    "                          iterator_valid__drop_last = True, \n",
    "                          iterator_train__shuffle = True,\n",
    "                          iterator_valid__shuffle = True,\n",
    "                          max_epochs=100, \n",
    "                          criterion = nn.CrossEntropyLoss,\n",
    "                          optimizer=optim.Adam,\n",
    "                          lr = 0.01,\n",
    "                          batch_size = batch_size,\n",
    "                          callbacks = callbacks,\n",
    "                          device = device,verbose = 1\n",
    "                          )"
   ]
  },
  {
   "cell_type": "code",
   "execution_count": 7,
   "metadata": {},
   "outputs": [
    {
     "name": "stdout",
     "output_type": "stream",
     "text": [
      "  epoch    accuracy    train_loss    valid_acc    valid_loss      dur\n",
      "-------  ----------  ------------  -----------  ------------  -------\n",
      "      1      \u001b[36m0.5625\u001b[0m       \u001b[32m10.1849\u001b[0m       \u001b[35m0.5625\u001b[0m        \u001b[31m1.2032\u001b[0m  39.2780\n",
      "      2      \u001b[36m0.5615\u001b[0m        \u001b[32m1.2025\u001b[0m       0.5615        1.2039  38.3290\n",
      "      3      0.5617        1.2026       0.5617        1.2034  38.0812\n",
      "      4      0.5620        1.2027       0.5620        1.2034  37.2547\n",
      "      5      \u001b[36m0.5613\u001b[0m        1.2025       0.5613        \u001b[31m1.2031\u001b[0m  36.9220\n",
      "Stopping since valid_loss has not improved in the last 5 epochs.\n"
     ]
    },
    {
     "data": {
      "text/plain": [
       "<class 'skorch.classifier.NeuralNetClassifier'>[initialized](\n",
       "  module_=ReviewModel(\n",
       "    (embedding): Embedding(52982, 50)\n",
       "    (drop1): Dropout(p=0.5)\n",
       "    (conv1): Conv1d(50, 200, kernel_size=(4,), stride=(1,), padding=(2,))\n",
       "    (conv2): Conv1d(50, 200, kernel_size=(5,), stride=(1,), padding=(2,))\n",
       "    (maxpool): MaxPool1d(kernel_size=2, stride=2, padding=0, dilation=1, ceil_mode=False)\n",
       "    (drop2): Dropout(p=0.3)\n",
       "    (rnn): GRU(400, 100)\n",
       "    (fc1): Linear(in_features=4000, out_features=400, bias=True)\n",
       "    (drop3): Dropout(p=0.15)\n",
       "    (fc2): Linear(in_features=400, out_features=5, bias=True)\n",
       "  ),\n",
       ")"
      ]
     },
     "execution_count": 7,
     "metadata": {},
     "output_type": "execute_result"
    }
   ],
   "source": [
    "inputs = torch.from_numpy(data_loader.X_train).long().to(device)\n",
    "labels = torch.tensor(data_loader.y_train.values).long().to(device)\n",
    "net.fit(inputs, labels)"
   ]
  },
  {
   "cell_type": "markdown",
   "metadata": {},
   "source": [
    "The table above shows the training of the first dataset with glove embeddings. As we can see the results are not promising:\n",
    "in fact the training loss is not recreasing, and the validation loss as well. It seems that the net is not learning at all. It may be due to the fact the dataset is imbalanced as it will be discussed later."
   ]
  },
  {
   "cell_type": "code",
   "execution_count": 10,
   "metadata": {},
   "outputs": [],
   "source": [
    "import seaborn as sns\n",
    "from sklearn.metrics import confusion_matrix"
   ]
  },
  {
   "cell_type": "code",
   "execution_count": 8,
   "metadata": {},
   "outputs": [],
   "source": [
    "inputs = torch.from_numpy(data_loader.X_test).long().to(device)\n",
    "predictions = net.predict(inputs)"
   ]
  },
  {
   "cell_type": "code",
   "execution_count": 11,
   "metadata": {},
   "outputs": [
    {
     "data": {
      "text/plain": [
       "Text(33.0, 0.5, 'True label')"
      ]
     },
     "execution_count": 11,
     "metadata": {},
     "output_type": "execute_result"
    },
    {
     "data": {
      "image/png": "[encoded data removed]",
      "text/plain": [
       "<Figure size 432x288 with 2 Axes>"
      ]
     },
     "metadata": {
      "needs_background": "light"
     },
     "output_type": "display_data"
    }
   ],
   "source": [
    "cm = confusion_matrix(data_loader.y_test[:-2], predictions)\n",
    "sns.heatmap(cm,annot = True)\n",
    "plt.xlabel(\"Predicted label\")\n",
    "plt.ylabel(\"True label\")"
   ]
  },
  {
   "cell_type": "markdown",
   "metadata": {},
   "source": [
    "### Multiclass dataset with random embedding"
   ]
  },
  {
   "cell_type": "code",
   "execution_count": 12,
   "metadata": {},
   "outputs": [],
   "source": [
    "ReviewModelParam[\"random\"] = True"
   ]
  },
  {
   "cell_type": "code",
   "execution_count": 13,
   "metadata": {},
   "outputs": [],
   "source": [
    "model = ReviewModel(ReviewModelParam).to(device)\n",
    "net = NeuralNetClassifier(model,## change dimensionality\n",
    "                          iterator_train__drop_last = True,\n",
    "                          iterator_valid__drop_last = True, \n",
    "                          iterator_train__shuffle = True,\n",
    "                          iterator_valid__shuffle = True,\n",
    "                          max_epochs=100, \n",
    "                          criterion = nn.CrossEntropyLoss,\n",
    "                          optimizer=optim.Adam,\n",
    "                          lr = 0.01,\n",
    "                          batch_size = batch_size,\n",
    "                          callbacks = callbacks,\n",
    "                          device = device,verbose = 1\n",
    "                          )"
   ]
  },
  {
   "cell_type": "code",
   "execution_count": 14,
   "metadata": {},
   "outputs": [
    {
     "name": "stdout",
     "output_type": "stream",
     "text": [
      "  epoch    accuracy    train_loss    valid_acc    valid_loss      dur\n",
      "-------  ----------  ------------  -----------  ------------  -------\n",
      "      1      \u001b[36m0.5617\u001b[0m        \u001b[32m6.9632\u001b[0m       \u001b[35m0.5617\u001b[0m        \u001b[31m1.2029\u001b[0m  38.0654\n",
      "      2      \u001b[36m0.5615\u001b[0m        \u001b[32m1.2021\u001b[0m       0.5615        1.2034  36.9087\n",
      "      3      0.5622        1.2029       \u001b[35m0.5622\u001b[0m        \u001b[31m1.2028\u001b[0m  37.1200\n",
      "      4      0.5618        1.2033       0.5618        1.2030  37.1380\n",
      "      5      0.5617        1.2032       0.5617        \u001b[31m1.2023\u001b[0m  37.1832\n",
      "      6      \u001b[36m0.5610\u001b[0m        1.2021       0.5610        1.2035  36.9534\n",
      "      7      \u001b[36m0.5608\u001b[0m        \u001b[32m1.2015\u001b[0m       0.5608        1.2040  37.7592\n",
      "      8      0.5627        1.2023       \u001b[35m0.5627\u001b[0m        \u001b[31m1.2014\u001b[0m  38.3050\n",
      "      9      0.5618        1.2019       0.5618        1.2025  36.9415\n",
      "     10      0.5615        \u001b[32m1.2014\u001b[0m       0.5615        1.2032  36.9283\n",
      "     11      0.5618        1.2021       0.5618        1.2020  36.9472\n",
      "     12      0.5613        1.2039       0.5613        1.2030  36.9241\n",
      "Stopping since valid_loss has not improved in the last 5 epochs.\n"
     ]
    },
    {
     "data": {
      "text/plain": [
       "<class 'skorch.classifier.NeuralNetClassifier'>[initialized](\n",
       "  module_=ReviewModel(\n",
       "    (embedding): Embedding(52982, 50)\n",
       "    (drop1): Dropout(p=0.5)\n",
       "    (conv1): Conv1d(50, 200, kernel_size=(4,), stride=(1,), padding=(2,))\n",
       "    (conv2): Conv1d(50, 200, kernel_size=(5,), stride=(1,), padding=(2,))\n",
       "    (maxpool): MaxPool1d(kernel_size=2, stride=2, padding=0, dilation=1, ceil_mode=False)\n",
       "    (drop2): Dropout(p=0.3)\n",
       "    (rnn): GRU(400, 100)\n",
       "    (fc1): Linear(in_features=4000, out_features=400, bias=True)\n",
       "    (drop3): Dropout(p=0.15)\n",
       "    (fc2): Linear(in_features=400, out_features=5, bias=True)\n",
       "  ),\n",
       ")"
      ]
     },
     "execution_count": 14,
     "metadata": {},
     "output_type": "execute_result"
    }
   ],
   "source": [
    "inputs = torch.from_numpy(data_loader.X_train).long().to(device)\n",
    "labels = torch.tensor(data_loader.y_train.values).long().to(device)\n",
    "net.fit(inputs, labels)"
   ]
  },
  {
   "cell_type": "markdown",
   "metadata": {},
   "source": [
    "Here we are training the multiclass dataset with random embedding instead of GloVe embeddings. The behaviour is the same as the classification made earlier, as the accuracy, the training and the validation loss do not improve through epochs."
   ]
  },
  {
   "cell_type": "code",
   "execution_count": 15,
   "metadata": {},
   "outputs": [],
   "source": [
    "inputs = torch.from_numpy(data_loader.X_test).long().to(device)\n",
    "predictions = net.predict(inputs)"
   ]
  },
  {
   "cell_type": "code",
   "execution_count": 17,
   "metadata": {},
   "outputs": [
    {
     "data": {
      "text/plain": [
       "Text(33.0, 0.5, 'True label')"
      ]
     },
     "execution_count": 17,
     "metadata": {},
     "output_type": "execute_result"
    },
    {
     "data": {
      "image/png": "[encoded data removed]",
      "text/plain": [
       "<Figure size 432x288 with 2 Axes>"
      ]
     },
     "metadata": {
      "needs_background": "light"
     },
     "output_type": "display_data"
    }
   ],
   "source": [
    "confusion_matrix(data_loader.y_test[:-2], predictions)\n",
    "sns.heatmap(cm,annot = True)\n",
    "plt.xlabel(\"Predicted label\")\n",
    "plt.ylabel(\"True label\")"
   ]
  },
  {
   "cell_type": "markdown",
   "metadata": {},
   "source": [
    "### Binary dataset with glove embedding"
   ]
  },
  {
   "cell_type": "code",
   "execution_count": 27,
   "metadata": {},
   "outputs": [],
   "source": [
    "data_loader = AmznDataLoader(path ='./data/sst2.txt', maxSeqLength = 20)"
   ]
  },
  {
   "cell_type": "code",
   "execution_count": 28,
   "metadata": {},
   "outputs": [],
   "source": [
    "callbacks = [\n",
    "    ('es1',EpochScoring('accuracy')),\n",
    "    ('lrs',LRScheduler()),\n",
    "    ('est',EarlyStopping())    \n",
    "]\n",
    "batch_size = 128\n",
    "device = torch.device(\"cuda\")\n",
    "model = ReviewModel(ReviewModelParam).to(device)"
   ]
  },
  {
   "cell_type": "code",
   "execution_count": 29,
   "metadata": {},
   "outputs": [],
   "source": [
    "ReviewModelParam[\"output_dim\"] = 2\n",
    "ReviewModelParam[\"max_length\"] = 20\n",
    "ReviewModelParam[\"random\"] = False"
   ]
  },
  {
   "cell_type": "code",
   "execution_count": 30,
   "metadata": {},
   "outputs": [],
   "source": [
    "# refresh parameters \n",
    "ReviewModelParam[\"first_dense_in\"] = ReviewModelParam[\"max_length\"]//2 * ReviewModelParam[\"rnn_hidden_size\"]\n",
    "ReviewModelParam[\"second_dense_in\"] = ReviewModelParam[\"first_dense_out\"]\n",
    "ReviewModelParam[\"second_dense_out\"] = ReviewModelParam[\"output_dim\"]  ##depends on loss function"
   ]
  },
  {
   "cell_type": "code",
   "execution_count": 31,
   "metadata": {},
   "outputs": [],
   "source": [
    "model = ReviewModel(ReviewModelParam).to(device)\n",
    "net = NeuralNetClassifier(model,## change dimensionality\n",
    "                          iterator_train__drop_last = True,\n",
    "                          iterator_valid__drop_last = True, \n",
    "                          iterator_train__shuffle = True,\n",
    "                          iterator_valid__shuffle = True,\n",
    "                          max_epochs=100, \n",
    "                          criterion = nn.CrossEntropyLoss,\n",
    "                          optimizer=optim.SGD,\n",
    "                          lr = 0.01,\n",
    "                          optimizer__param_groups = {('momentum', 0.5)},\n",
    "                          batch_size = batch_size,\n",
    "                          callbacks = callbacks,\n",
    "                          device = device,verbose = 1\n",
    "                          )"
   ]
  },
  {
   "cell_type": "code",
   "execution_count": 32,
   "metadata": {},
   "outputs": [
    {
     "name": "stdout",
     "output_type": "stream",
     "text": [
      "  epoch    accuracy    train_loss    valid_acc    valid_loss     dur\n",
      "-------  ----------  ------------  -----------  ------------  ------\n",
      "      1      \u001b[36m0.5531\u001b[0m        \u001b[32m0.6932\u001b[0m       \u001b[35m0.5531\u001b[0m        \u001b[31m0.6915\u001b[0m  2.6785\n",
      "      2      \u001b[36m0.5336\u001b[0m        \u001b[32m0.6927\u001b[0m       0.5336        \u001b[31m0.6906\u001b[0m  2.6657\n",
      "      3      \u001b[36m0.5258\u001b[0m        \u001b[32m0.6925\u001b[0m       0.5258        \u001b[31m0.6897\u001b[0m  2.6649\n",
      "      4      0.5797        \u001b[32m0.6906\u001b[0m       \u001b[35m0.5797\u001b[0m        \u001b[31m0.6884\u001b[0m  2.6666\n",
      "      5      0.5336        0.6906       0.5336        \u001b[31m0.6872\u001b[0m  2.6734\n",
      "      6      \u001b[36m0.5148\u001b[0m        \u001b[32m0.6886\u001b[0m       0.5148        0.6887  2.6649\n",
      "      7      0.5742        0.6895       0.5742        0.6876  2.6646\n",
      "      8      0.5156        \u001b[32m0.6877\u001b[0m       0.5156        0.6882  2.6722\n",
      "      9      0.5383        0.6887       0.5383        \u001b[31m0.6851\u001b[0m  2.6657\n",
      "     10      0.5484        0.6883       0.5484        0.6861  2.6661\n",
      "     11      0.5273        0.6884       0.5273        0.6867  2.6678\n",
      "     12      0.5352        0.6890       0.5352        0.6856  2.6775\n",
      "     13      0.5266        0.6901       0.5266        0.6856  2.6642\n",
      "     14      0.6000        \u001b[32m0.6852\u001b[0m       \u001b[35m0.6000\u001b[0m        \u001b[31m0.6825\u001b[0m  2.6635\n",
      "     15      0.5930        0.6864       0.5930        0.6837  2.6659\n",
      "     16      0.5734        \u001b[32m0.6852\u001b[0m       0.5734        \u001b[31m0.6814\u001b[0m  2.6769\n",
      "     17      0.5219        \u001b[32m0.6826\u001b[0m       0.5219        0.6825  2.6663\n",
      "     18      0.5828        \u001b[32m0.6821\u001b[0m       0.5828        \u001b[31m0.6758\u001b[0m  2.6658\n",
      "     19      0.6078        \u001b[32m0.6795\u001b[0m       \u001b[35m0.6078\u001b[0m        0.6764  2.6753\n",
      "     20      0.6047        \u001b[32m0.6788\u001b[0m       0.6047        \u001b[31m0.6702\u001b[0m  2.6734\n",
      "     21      0.6047        \u001b[32m0.6741\u001b[0m       0.6047        0.6710  2.6654\n",
      "     22      0.5656        \u001b[32m0.6736\u001b[0m       0.5656        0.6705  2.6660\n",
      "     23      0.6172        \u001b[32m0.6731\u001b[0m       \u001b[35m0.6172\u001b[0m        \u001b[31m0.6669\u001b[0m  2.6696\n",
      "     24      0.6008        \u001b[32m0.6726\u001b[0m       0.6008        0.6676  2.6710\n",
      "     25      0.5938        \u001b[32m0.6689\u001b[0m       0.5938        \u001b[31m0.6653\u001b[0m  2.6677\n",
      "     26      0.6070        0.6726       0.6070        \u001b[31m0.6650\u001b[0m  2.6661\n",
      "     27      0.6070        0.6695       0.6070        \u001b[31m0.6617\u001b[0m  2.6713\n",
      "     28      0.6211        \u001b[32m0.6681\u001b[0m       \u001b[35m0.6211\u001b[0m        \u001b[31m0.6593\u001b[0m  2.6737\n",
      "     29      0.5938        \u001b[32m0.6656\u001b[0m       0.5938        0.6641  2.6662\n",
      "     30      0.6289        0.6673       \u001b[35m0.6289\u001b[0m        0.6610  2.7476\n",
      "     31      0.6234        0.6657       0.6234        0.6615  2.7840\n",
      "     32      0.6281        0.6685       0.6281        0.6596  2.9074\n",
      "Stopping since valid_loss has not improved in the last 5 epochs.\n"
     ]
    },
    {
     "data": {
      "text/plain": [
       "<class 'skorch.classifier.NeuralNetClassifier'>[initialized](\n",
       "  module_=ReviewModel(\n",
       "    (embedding): Embedding(15317, 50)\n",
       "    (drop1): Dropout(p=0.5)\n",
       "    (conv1): Conv1d(50, 200, kernel_size=(4,), stride=(1,), padding=(2,))\n",
       "    (conv2): Conv1d(50, 200, kernel_size=(5,), stride=(1,), padding=(2,))\n",
       "    (maxpool): MaxPool1d(kernel_size=2, stride=2, padding=0, dilation=1, ceil_mode=False)\n",
       "    (drop2): Dropout(p=0.3)\n",
       "    (rnn): GRU(400, 100)\n",
       "    (fc1): Linear(in_features=1000, out_features=400, bias=True)\n",
       "    (drop3): Dropout(p=0.15)\n",
       "    (fc2): Linear(in_features=400, out_features=2, bias=True)\n",
       "  ),\n",
       ")"
      ]
     },
     "execution_count": 32,
     "metadata": {},
     "output_type": "execute_result"
    }
   ],
   "source": [
    "inputs = torch.from_numpy(data_loader.X_train).long().to(device)\n",
    "labels = torch.tensor(data_loader.y_train.values).long().to(device)\n",
    "net.fit(inputs, labels)"
   ]
  },
  {
   "cell_type": "markdown",
   "metadata": {},
   "source": [
    "Though it takes more epochs to find the optimal, the model performs better in binary dataset than the previous one for learning from input information and seizing higher accuracy. The results might differ much if using different learning rate and optimizer. Next we would examine its performance on test dataset"
   ]
  },
  {
   "cell_type": "code",
   "execution_count": 33,
   "metadata": {},
   "outputs": [],
   "source": [
    "inputs = torch.from_numpy(data_loader.X_test).long().to(device)\n",
    "predictions = net.predict(inputs)"
   ]
  },
  {
   "cell_type": "code",
   "execution_count": 34,
   "metadata": {},
   "outputs": [
    {
     "data": {
      "text/plain": [
       "<matplotlib.axes._subplots.AxesSubplot at 0x7fc9ae850160>"
      ]
     },
     "execution_count": 34,
     "metadata": {},
     "output_type": "execute_result"
    },
    {
     "data": {
      "image/png": "[encoded data removed]",
      "text/plain": [
       "<Figure size 432x288 with 2 Axes>"
      ]
     },
     "metadata": {
      "needs_background": "light"
     },
     "output_type": "display_data"
    }
   ],
   "source": [
    "import seaborn as sns\n",
    "cm = confusion_matrix(data_loader.y_test[:-85], predictions)\n",
    "sns.heatmap(cm,annot = True)"
   ]
  },
  {
   "cell_type": "markdown",
   "metadata": {},
   "source": [
    "Unlike the previous model that divided all inputs to one class, the model does divide well in some cases, but the amount of FP and TN is also large. It is interesting to find that the predictions are divided to two classes evenly, though it achieve a satisfactory accuracy, so we can conclude that the improved accuracy may result from the imbalanced dataset that has more samples with label \"1\"."
   ]
  },
  {
   "cell_type": "markdown",
   "metadata": {},
   "source": [
    "### Binary dataset with random embedding"
   ]
  },
  {
   "cell_type": "code",
   "execution_count": 35,
   "metadata": {},
   "outputs": [],
   "source": [
    "ReviewModelParam[\"random\"] = True"
   ]
  },
  {
   "cell_type": "code",
   "execution_count": 36,
   "metadata": {},
   "outputs": [],
   "source": [
    "model = ReviewModel(ReviewModelParam).to(device)\n",
    "net = NeuralNetClassifier(model,## change dimensionality\n",
    "                          iterator_train__drop_last = True,\n",
    "                          iterator_valid__drop_last = True, \n",
    "                          iterator_train__shuffle = True,\n",
    "                          iterator_valid__shuffle = True,\n",
    "                          max_epochs=100, \n",
    "                          criterion = nn.CrossEntropyLoss,\n",
    "                          optimizer=optim.Adam,\n",
    "                          lr = 0.01,\n",
    "                          #optimizer__param_groups = {('momentum', 0.5)},\n",
    "                          batch_size = batch_size,\n",
    "                          callbacks = callbacks,\n",
    "                          device = device,verbose = 1\n",
    "                          )"
   ]
  },
  {
   "cell_type": "code",
   "execution_count": 40,
   "metadata": {},
   "outputs": [
    {
     "name": "stdout",
     "output_type": "stream",
     "text": [
      "Re-initializing optimizer because the following parameters were re-set: .\n",
      "  epoch    accuracy    train_loss    valid_acc    valid_loss     dur\n",
      "-------  ----------  ------------  -----------  ------------  ------\n",
      "      1      \u001b[36m0.5195\u001b[0m        \u001b[32m0.6935\u001b[0m       \u001b[35m0.5195\u001b[0m        \u001b[31m0.6926\u001b[0m  2.8112\n",
      "      2      \u001b[36m0.5188\u001b[0m        \u001b[32m0.6932\u001b[0m       0.5188        0.6930  2.7869\n",
      "      3      0.5305        \u001b[32m0.6927\u001b[0m       \u001b[35m0.5305\u001b[0m        \u001b[31m0.6918\u001b[0m  2.7857\n",
      "      4      0.5188        0.6928       0.5188        0.6929  2.7828\n",
      "      5      \u001b[36m0.5164\u001b[0m        \u001b[32m0.6926\u001b[0m       0.5164        0.6927  2.7854\n",
      "      6      0.5203        0.6936       0.5203        0.6927  2.7870\n",
      "      7      0.5164        0.6927       0.5164        0.6926  2.7837\n",
      "Stopping since valid_loss has not improved in the last 5 epochs.\n"
     ]
    },
    {
     "data": {
      "text/plain": [
       "<class 'skorch.classifier.NeuralNetClassifier'>[initialized](\n",
       "  module_=ReviewModel(\n",
       "    (embedding): Embedding(15317, 50)\n",
       "    (drop1): Dropout(p=0.5)\n",
       "    (conv1): Conv1d(50, 200, kernel_size=(4,), stride=(1,), padding=(2,))\n",
       "    (conv2): Conv1d(50, 200, kernel_size=(5,), stride=(1,), padding=(2,))\n",
       "    (maxpool): MaxPool1d(kernel_size=2, stride=2, padding=0, dilation=1, ceil_mode=False)\n",
       "    (drop2): Dropout(p=0.3)\n",
       "    (rnn): GRU(400, 100)\n",
       "    (fc1): Linear(in_features=1000, out_features=400, bias=True)\n",
       "    (drop3): Dropout(p=0.15)\n",
       "    (fc2): Linear(in_features=400, out_features=2, bias=True)\n",
       "  ),\n",
       ")"
      ]
     },
     "execution_count": 40,
     "metadata": {},
     "output_type": "execute_result"
    }
   ],
   "source": [
    "inputs = torch.from_numpy(data_loader.X_train).long().to(device)\n",
    "labels = torch.tensor(data_loader.y_train.values).long().to(device)\n",
    "net.fit(inputs, labels)"
   ]
  },
  {
   "cell_type": "code",
   "execution_count": 41,
   "metadata": {},
   "outputs": [],
   "source": [
    "inputs = torch.from_numpy(data_loader.X_test).long().to(device)\n",
    "predictions = net.predict(inputs)"
   ]
  },
  {
   "cell_type": "code",
   "execution_count": 42,
   "metadata": {},
   "outputs": [
    {
     "data": {
      "text/plain": [
       "<matplotlib.axes._subplots.AxesSubplot at 0x7fc9adfb6a58>"
      ]
     },
     "execution_count": 42,
     "metadata": {},
     "output_type": "execute_result"
    },
    {
     "data": {
      "image/png": "[encoded data removed]",
      "text/plain": [
       "<Figure size 432x288 with 2 Axes>"
      ]
     },
     "metadata": {
      "needs_background": "light"
     },
     "output_type": "display_data"
    }
   ],
   "source": [
    "import seaborn as sns\n",
    "cm = confusion_matrix(data_loader.y_test[:-85], predictions)\n",
    "sns.heatmap(cm,annot = True)"
   ]
  },
  {
   "cell_type": "markdown",
   "metadata": {},
   "source": [
    "## Evaluation\n",
    "\n",
    "-  The model doesn't work well for multiclass dataset while it makes sense for binary dataset though the results are not that ideal as paper shows. This might be caused by the differences of gradient calculation in two environment as the original code is written in Keras. Furthermore, we also adjust the code to fit parameters of functions in Pytorch.  \n",
    "\n",
    "- Another issue is that the imbalanced dataset that the rating \"5\" takes up about 56% of the whole might lead to the inaccurate prediction. From the confusion matrix, it can be observed that only \"big\" class has True Positive cases but the other doesn't regardless of classes. We also implement \\it{torch.utils.data.Sampler.WeightedRandomSampler}, and unfortunately it doesn't make sense.\n",
    "\n",
    "- Alternatively, one way to deal with that might be using the imbalanced-learn library, which has built-in functions that can upsample or downsample the data, or even create new datapoints.\n",
    "\n",
    "- The poor performance may reult from too less information for input. The sentence was cut in defined maximal length for reduce computation and data spasity since we create indices matrix for embedding. It saves computation at the expense of lossing information and poor performance. The sentence has been removed stopwords, but the performance doesn't change even we didn't operate it."
   ]
  },
  {
   "cell_type": "markdown",
   "metadata": {},
   "source": [
    "# Conclusions"
   ]
  },
  {
   "cell_type": "markdown",
   "metadata": {},
   "source": [
    "We have tried a CNN-GRU neural network to compute sentiment analisys on a multiclass and binary dataset, with glove and random embeddings, to check whether the glove embeddings might outperform word2vec in predicting the sentiment. Unfornately the model doesn't show the difference when using different word embedding. The model works better in binary dataset though it is not that ideal and unable to achive high accuracy as paper shows. For multiclass dataset, the original model that our model is based on also doesn't achieve well and we still have rooms to improve.\n",
    "\n",
    "From th project we learnt that different framework might affect results of experiment and to train a suitable model we have to consider computation resources, data quality and methods to deal with dataset. Though in theory the model shows its advantages in treating natural language, landing still takes time."
   ]
  },
  {
   "cell_type": "markdown",
   "metadata": {
    "ipub": {
     "slide": true
    }
   },
   "source": [
    "## References and Citations"
   ]
  },
  {
   "cell_type": "markdown",
   "metadata": {
    "ipub": {
     "slide": true
    }
   },
   "source": [
    "$[1]$ J.McAuley,Amazon Product Data, http://jmcauley.ucsd.edu/data/amazon/. \n",
    "\n",
    "$[2]$ Socher et al., 2013a, http://nlp.stanford.edu/sentiment/\n",
    "\n",
    "$[3]$ Pennington, Jeffrey, Richard Socher, and Christopher Manning. \"Glove: Global vectors for word representation.\" Proceedings of the 2014 conference on empirical methods in natural language processing (EMNLP). 2014. https://nlp.stanford.edu/projects/glove/\n",
    "\n",
    "$[4]$ Wang, Xingyou, Weijie Jiang, and Zhiyong Luo. \"Combination of convolutional and recurrent neural network for sentiment analysis of short texts.\" Proceedings of COLING 2016, the 26th International Conference on Computational Linguistics: Technical Papers. 2016."
   ]
  },
  {
   "cell_type": "markdown",
   "metadata": {},
   "source": [
    "## Code\n",
    "The source code for the project is available at https://github.com/GabrieleSalvo/DeepLearningProject"
   ]
  }
 ],
 "metadata": {
  "hide_input": false,
  "ipub": {
   "bibliography": "../bibliographies/example.bib",
   "language": "british",
   "listcode": true,
   "listfigures": true,
   "listtables": true,
   "titlepage": {
    "author": "Authors Name",
    "email": "authors@email.com",
    "institution": [
     "Institution1",
     "Institution2"
    ],
    "logo": "../logos/logo_example.png",
    "subtitle": "Sub-Title",
    "supervisors": [
     "First Supervisor",
     "Second Supervisor"
    ],
    "tagline": "A tagline for the report.",
    "title": "Main-Title"
   },
   "toc": true
  },
  "jupytext": {
   "notebook_metadata_filter": "ipub"
  },
  "kernelspec": {
   "display_name": "Python 3",
   "language": "python",
   "name": "python3"
  },
  "language_info": {
   "codemirror_mode": {
    "name": "ipython",
    "version": 3
   },
   "file_extension": ".py",
   "mimetype": "text/x-python",
   "name": "python",
   "nbconvert_exporter": "python",
   "pygments_lexer": "ipython3",
   "version": "3.7.3"
  },
  "latex_envs": {
   "LaTeX_envs_menu_present": true,
   "autocomplete": true,
   "bibliofile": "../bibliographies/example.bib",
   "cite_by": "apalike",
   "current_citInitial": 1,
   "eqLabelWithNumbers": true,
   "eqNumInitial": 1,
   "hotkeys": {
    "equation": "Ctrl-E",
    "itemize": "Ctrl-I"
   },
   "labels_anchors": false,
   "latex_user_defs": false,
   "report_style_numbering": false,
   "user_envs_cfg": true
  },
  "nav_menu": {},
  "toc": {
   "colors": {
    "hover_highlight": "#DAA520",
    "navigate_num": "#000000",
    "navigate_text": "#333333",
    "running_highlight": "#FF0000",
    "selected_highlight": "#FFD700",
    "sidebar_border": "#EEEEEE",
    "wrapper_background": "#FFFFFF"
   },
   "moveMenuLeft": true,
   "nav_menu": {
    "height": "161px",
    "width": "252px"
   },
   "navigate_menu": true,
   "number_sections": true,
   "sideBar": true,
   "threshold": 4,
   "toc_cell": false,
   "toc_section_display": "block",
   "toc_window_display": true,
   "widenNotebook": false
  },
  "varInspector": {
   "cols": {
    "lenName": 16,
    "lenType": 16,
    "lenVar": 40
   },
   "kernels_config": {
    "python": {
     "delete_cmd_postfix": "",
     "delete_cmd_prefix": "del ",
     "library": "var_list.py",
     "varRefreshCmd": "print(var_dic_list())"
    },
    "r": {
     "delete_cmd_postfix": ") ",
     "delete_cmd_prefix": "rm(",
     "library": "var_list.r",
     "varRefreshCmd": "cat(var_dic_list()) "
    }
   },
   "types_to_exclude": [
    "module",
    "function",
    "builtin_function_or_method",
    "instance",
    "_Feature"
   ],
   "window_display": false
  }
 },
 "nbformat": 4,
 "nbformat_minor": 2
}
